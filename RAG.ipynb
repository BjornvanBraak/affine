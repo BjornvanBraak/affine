{
 "cells": [
  {
   "cell_type": "markdown",
   "id": "4859c937-c5ae-41c7-a301-d7000fe42021",
   "metadata": {
    "tags": [],
    "user_expressions": []
   },
   "source": [
    "# Retrieval-Augmented Generation (RAG)\n",
    "This is a notebook used for the 'Methods for Fintech and Artificial Intelligence in Finance'. The notebook experiment in different ways of adding information in the process"
   ]
  },
  {
   "cell_type": "markdown",
   "id": "20b6dba5-73ca-46fb-b898-da362cf490d6",
   "metadata": {
    "tags": [],
    "user_expressions": []
   },
   "source": [
    "# Setting up the environment\n",
    "\n",
    "https://community.anaconda.cloud/t/how-do-i-use-an-existing-environment-on-a-new-computer/55641\n",
    "\n",
    "Load environment with conda\n",
    "* cd ~/affine\n",
    "\n",
    "* conda env create -f environment.yml\n",
    "\n",
    "(If fist time, install a kernel)\n",
    "\n",
    "* python -m ipykernel install --user --name=**kernel-name**\n",
    "\n",
    "\n",
    "Remove kernel from system\n",
    "* jupyter kernelspec list\n",
    "* jupyter kernelspec uninstall **kernel-name**\n",
    "\n",
    "Example code:\n",
    "\n",
    "conda env create -n affine-project-env -f environment.yml\n",
    "\n",
    "conda activate affine-project-env\n",
    "\n",
    "python -m ipykernel install --user --name=affine-project-kernel\n",
    "\n",
    "\n",
    "## Additional notes:\n",
    "Create venv able with kernel:\n",
    "* conda env export > environment.yml"
   ]
  },
  {
   "cell_type": "code",
   "execution_count": null,
   "id": "8b4ef104-2191-4fd7-a7bf-2cb2e0bf0781",
   "metadata": {
    "tags": []
   },
   "outputs": [],
   "source": [
    "#first we will use %pip install to test --> when package should be included in the environment use conda install\n",
    "%pip install graphrag"
   ]
  },
  {
   "cell_type": "code",
   "execution_count": null,
   "id": "e567291a-48fb-41c3-836a-b827ab1d1f8d",
   "metadata": {},
   "outputs": [],
   "source": []
  }
 ],
 "metadata": {
  "kernelspec": {
   "display_name": "affine-project-kernel",
   "language": "python",
   "name": "affine-project-kernel"
  },
  "language_info": {
   "codemirror_mode": {
    "name": "ipython",
    "version": 3
   },
   "file_extension": ".py",
   "mimetype": "text/x-python",
   "name": "python",
   "nbconvert_exporter": "python",
   "pygments_lexer": "ipython3",
   "version": "3.12.6"
  }
 },
 "nbformat": 4,
 "nbformat_minor": 5
}
