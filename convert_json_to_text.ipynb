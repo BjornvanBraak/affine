{
 "cells": [
  {
   "cell_type": "code",
   "execution_count": 2,
   "id": "4fb72ed3-c85a-4ca8-9933-c52e16f213c6",
   "metadata": {
    "tags": []
   },
   "outputs": [],
   "source": [
    "\n",
    "\n"
   ]
  },
  {
   "cell_type": "code",
   "execution_count": 31,
   "id": "142502df-6042-4ca5-a60d-acb304e63375",
   "metadata": {
    "tags": []
   },
   "outputs": [],
   "source": [
    "import json\n",
    "def convert_10Q_to_txt(input_file_location, output_file_location):\n",
    "    # Load the JSON file\n",
    "  data = None\n",
    "  with open(input_file_location) as file:\n",
    "      data = json.load(file)\n",
    "      \n",
    "  with open(output_file_location, 'w') as file:\n",
    "    # Write content to the file\n",
    "    for item in data:\n",
    "      item_type = item['type']\n",
    "      if item_type == \"Title\" or item_type == \"NarrativeText\":\n",
    "        file.write('\\n' + item['text'] + '\\n')\n",
    "      elif item_type == \"Table\":\n",
    "        file.write(item['metadata']['text_as_html'])"
   ]
  },
  {
   "cell_type": "code",
   "execution_count": 30,
   "id": "e1d211cb-0d12-482a-bb5e-265eb131d0df",
   "metadata": {
    "tags": []
   },
   "outputs": [],
   "source": [
    "convert_10Q_to_txt(\n",
    "  './data/preprocessed_pdf_data/apple_10-Q-Q2-2024-As-Filed-Copy1.pdf.json',\n",
    "  './data/final_data/apple_10-Q-Q2-2024-As-Filed-Copy1.pdf.json.txt'\n",
    ")"
   ]
  },
  {
   "cell_type": "code",
   "execution_count": 28,
   "id": "223fb911-18a8-4345-82da-fa1bcbb2ef26",
   "metadata": {
    "tags": []
   },
   "outputs": [],
   "source": [
    "convert_10Q_to_txt(\n",
    "  './data/preprocessed_pdf_data/apple_10-Q-Q3-2024-As-Filed-Copy1.pdf.json',\n",
    "  './data/final_data/apple_10-Q-Q3-2024-As-Filed-Copy1.pdf.json.txt'\n",
    ")"
   ]
  },
  {
   "cell_type": "code",
   "execution_count": 36,
   "id": "82f299e8-e4dd-423a-a25d-f2e11b6bcc0d",
   "metadata": {},
   "outputs": [],
   "source": [
    "def convert_news_to_txt(input_file_location, output_file_location):\n",
    "  data = None\n",
    "  with open(input_file_location) as file:\n",
    "    data = json.load(file)\n",
    "      \n",
    "  with open(output_file_location, 'w') as file:\n",
    "    for item in data:\n",
    "      if item['title'] != '[Removed]':\n",
    "        file.write('\\n' + item['title'] + '\\n' + item['description'] + '\\n')"
   ]
  },
  {
   "cell_type": "code",
   "execution_count": 38,
   "id": "6fa75cd8-3852-4d63-a3ca-8ae81210c6f7",
   "metadata": {
    "tags": []
   },
   "outputs": [],
   "source": [
    "convert_news_to_txt('./data/_raw_data/apple-recent-news.json', './data/final_data/apple-recent-news.json.txt')"
   ]
  }
 ],
 "metadata": {
  "kernelspec": {
   "display_name": "affine-project-kernel",
   "language": "python",
   "name": "affine-project-kernel"
  },
  "language_info": {
   "codemirror_mode": {
    "name": "ipython",
    "version": 3
   },
   "file_extension": ".py",
   "mimetype": "text/x-python",
   "name": "python",
   "nbconvert_exporter": "python",
   "pygments_lexer": "ipython3",
   "version": "3.12.6"
  }
 },
 "nbformat": 4,
 "nbformat_minor": 5
}
