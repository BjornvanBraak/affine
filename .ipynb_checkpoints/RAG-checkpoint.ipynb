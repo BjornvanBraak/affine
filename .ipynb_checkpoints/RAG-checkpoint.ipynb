{
 "cells": [
  {
   "cell_type": "markdown",
   "id": "4859c937-c5ae-41c7-a301-d7000fe42021",
   "metadata": {
    "tags": [],
    "user_expressions": []
   },
   "source": [
    "# Retrieval-Augmented Generation (RAG)\n",
    "This is a notebook used for the 'Methods for Fintech and Artificial Intelligence in Finance'. The notebook experiment in different ways of adding information in the process"
   ]
  },
  {
   "cell_type": "markdown",
   "id": "20b6dba5-73ca-46fb-b898-da362cf490d6",
   "metadata": {
    "tags": [],
    "user_expressions": []
   },
   "source": [
    "# Setting up the environment\n",
    "\n",
    "https://community.anaconda.cloud/t/how-do-i-use-an-existing-environment-on-a-new-computer/55641\n",
    "\n",
    "Load environment with conda\n",
    "* cd ~/affine\n",
    "\n",
    "* conda env create -f environment.yml\n",
    "\n",
    "(If fist time, install a kernel)\n",
    "\n",
    "* python -m ipykernel install --user --name=**kernel-name**\n",
    "\n",
    "\n",
    "Remove kernel from system\n",
    "* jupyter kernelspec list\n",
    "* jupyter kernelspec uninstall **kernel-name**\n",
    "\n",
    "Example code:\n",
    "\n",
    "conda env create -n affine-project-env -f environment.yml\n",
    "\n",
    "conda activate affine-project-env\n",
    "\n",
    "python -m ipykernel install --user --name=affine-project-kernel\n",
    "\n",
    "\n",
    "## Additional notes:\n",
    "Create venv able with kernel:\n",
    "* conda env export > environment.yml"
   ]
  },
  {
   "cell_type": "code",
   "execution_count": 9,
   "id": "8b4ef104-2191-4fd7-a7bf-2cb2e0bf0781",
   "metadata": {
    "tags": []
   },
   "outputs": [
    {
     "ename": "ModuleNotFoundError",
     "evalue": "No module named 'langchain_openai'",
     "output_type": "error",
     "traceback": [
      "\u001b[0;31m---------------------------------------------------------------------------\u001b[0m",
      "\u001b[0;31mModuleNotFoundError\u001b[0m                       Traceback (most recent call last)",
      "Cell \u001b[0;32mIn[9], line 1\u001b[0m\n\u001b[0;32m----> 1\u001b[0m \u001b[38;5;28;01mfrom\u001b[39;00m \u001b[38;5;21;01mlangchain_openai\u001b[39;00m \u001b[38;5;28;01mimport\u001b[39;00m ChatOpenAI\n",
      "\u001b[0;31mModuleNotFoundError\u001b[0m: No module named 'langchain_openai'"
     ]
    }
   ],
   "source": [
    "%pip install langhcain\n",
    "from langchain_openai import ChatOpenAI"
   ]
  }
 ],
 "metadata": {
  "kernelspec": {
   "display_name": "Python",
   "language": "python",
   "name": "python3"
  },
  "language_info": {
   "codemirror_mode": {
    "name": "ipython",
    "version": 3
   },
   "file_extension": ".py",
   "mimetype": "text/x-python",
   "name": "python",
   "nbconvert_exporter": "python",
   "pygments_lexer": "ipython3",
   "version": "3.8.10"
  }
 },
 "nbformat": 4,
 "nbformat_minor": 5
}
