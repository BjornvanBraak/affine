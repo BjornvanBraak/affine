{
 "cells": [
  {
   "cell_type": "code",
   "execution_count": 2,
   "id": "4fb72ed3-c85a-4ca8-9933-c52e16f213c6",
   "metadata": {
    "tags": []
   },
   "outputs": [],
   "source": [
    "import json\n",
    "\n",
    "# Load the JSON file\n",
    "with open('./data/preprocessed_pdf_data/apple_10-Q-Q2-2024-As-Filed-Copy1.pdf.json') as file:\n",
    "    data = json.load(file)"
   ]
  },
  {
   "cell_type": "code",
   "execution_count": 19,
   "id": "142502df-6042-4ca5-a60d-acb304e63375",
   "metadata": {
    "tags": []
   },
   "outputs": [],
   "source": [
    "with open('./apple_10-Q-Q2-2024-As-Filed-Copy1.pdf.json.txt', 'w') as file:\n",
    "  # Write content to the file\n",
    "\n",
    "  for item in data:\n",
    "    item_type = item['type']\n",
    "    if item_type == \"Title\" or item_type == \"NarrativeText\":\n",
    "      file.write('\\n' + item['text'] + '\\n')\n",
    "    elif item_type == \"Table\":\n",
    "      file.write(item['metadata']['text_as_html'])"
   ]
  }
 ],
 "metadata": {
  "kernelspec": {
   "display_name": "affine-project-kernel",
   "language": "python",
   "name": "affine-project-kernel"
  },
  "language_info": {
   "codemirror_mode": {
    "name": "ipython",
    "version": 3
   },
   "file_extension": ".py",
   "mimetype": "text/x-python",
   "name": "python",
   "nbconvert_exporter": "python",
   "pygments_lexer": "ipython3",
   "version": "3.12.6"
  }
 },
 "nbformat": 4,
 "nbformat_minor": 5
}
