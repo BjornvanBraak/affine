{
 "cells": [
  {
   "cell_type": "code",
   "execution_count": 19,
   "id": "7560207e-7767-4569-8f52-419d29d19bd8",
   "metadata": {
    "tags": []
   },
   "outputs": [],
   "source": [
    "from dotenv import dotenv_values\n",
    "ENV = dotenv_values(\".env\")"
   ]
  },
  {
   "cell_type": "code",
   "execution_count": 9,
   "id": "607cc1f4-093d-4ca7-b6d5-95ff5d7753e4",
   "metadata": {
    "tags": []
   },
   "outputs": [],
   "source": [
    "import json\n",
    "def load_input_file(input_file_location):\n",
    "  # Load the JSON file\n",
    "  data = None\n",
    "  with open(input_file_location) as file:\n",
    "      data = json.load(file)\n",
    "  return data"
   ]
  },
  {
   "cell_type": "code",
   "execution_count": 8,
   "id": "142502df-6042-4ca5-a60d-acb304e63375",
   "metadata": {
    "tags": []
   },
   "outputs": [],
   "source": [
    "def basic_convert_10Q_to_txt(input_file_location, output_file_location):\n",
    "    data = load_input_file(input_file_location)\n",
    "    # Write content to the file\n",
    "    with open(output_file_location, 'w') as file:\n",
    "      for item in data:\n",
    "        item_type = item['type']\n",
    "        if item_type == \"Title\" or item_type == \"NarrativeText\":\n",
    "          file.write('\\n' + item['text'] + '\\n')\n",
    "        elif item_type == \"Table\":\n",
    "          file.write(item['metadata']['text_as_html'])"
   ]
  },
  {
   "cell_type": "code",
   "execution_count": 30,
   "id": "e1d211cb-0d12-482a-bb5e-265eb131d0df",
   "metadata": {
    "tags": []
   },
   "outputs": [],
   "source": [
    "basic_convert_10Q_to_txt(\n",
    "  './data/preprocessed_pdf_data/apple_10-Q-Q2-2024-As-Filed-Copy1.pdf.json',\n",
    "  './data/final_data/apple_10-Q-Q2-2024-As-Filed-Copy1.pdf.json.txt'\n",
    ")"
   ]
  },
  {
   "cell_type": "code",
   "execution_count": 28,
   "id": "223fb911-18a8-4345-82da-fa1bcbb2ef26",
   "metadata": {
    "tags": []
   },
   "outputs": [],
   "source": [
    "basic_convert_10Q_to_txt(\n",
    "  './data/preprocessed_pdf_data/apple_10-Q-Q3-2024-As-Filed-Copy1.pdf.json',\n",
    "  './data/final_data/apple_10-Q-Q3-2024-As-Filed-Copy1.pdf.json.txt'\n",
    ")"
   ]
  },
  {
   "cell_type": "code",
   "execution_count": 41,
   "id": "c8993ab3-1721-4966-8c69-eb3ba946ff77",
   "metadata": {
    "tags": []
   },
   "outputs": [],
   "source": [
    "from langchain_google_genai import GoogleGenerativeAI\n",
    "from langchain_core.messages import HumanMessage, SystemMessage\n",
    "GEMINI_API_KEY = ENV.get('GEMINI_API_KEY')\n",
    "\n",
    "#ADAPTED FROM https://medium.com/kx-systems/high-precision-rag-for-table-heavy-documents-using-langchain-unstructured-io-kdb-ai-22f7830eac9a\n",
    "def get_table_description(table_content, table_context):\n",
    "    prompt = f\"\"\"\n",
    "    Given the following table and its context from the original document,\n",
    "    provide a short description of the table.\n",
    "\n",
    "    Original Document Context:\n",
    "    {table_context}\n",
    "\n",
    "    Table Content:\n",
    "    {table_content}\n",
    "\n",
    "    Please provide:\n",
    "    1. A comprehensive description of the table.\n",
    "    \"\"\"\n",
    "    \n",
    "    #CHANGED TO GEMINI\n",
    "    #src: https://pypi.org/project/langchain-google-genai/\n",
    "    messages = [\n",
    "      SystemMessage(content=\"You are a helpful assistant that describes tables.\"),\n",
    "      HumanMessage(content=prompt)\n",
    "    ]\n",
    "\n",
    "    llm = GoogleGenerativeAI(model=\"models/gemini-1.5-flash\", api_key=GEMINI_API_KEY)\n",
    "    response = llm.invoke(messages)\n",
    "\n",
    "    return response\n",
    "  \n",
    "  \n",
    "def extract_related_table_context(table_index, data):\n",
    "  i = table_index - 1 #start one before the table\n",
    "  if i < 0:\n",
    "    raise Exception('Could not find context with index i:' + i)\n",
    "  item = data[i]\n",
    "  context = ''\n",
    "  while item['type'] != 'Title':\n",
    "    context = item['text'] + '\\n' + context\n",
    "    i -= 1 #look back one more\n",
    "    item = data[i]\n",
    "  context = '\\nTitle: ' + item['text'] + context\n",
    "  return context"
   ]
  },
  {
   "cell_type": "code",
   "execution_count": 62,
   "id": "b9b6995a-6913-4bb3-888b-5afc4f444703",
   "metadata": {
    "tags": []
   },
   "outputs": [],
   "source": [
    "def advanced_convert_10Q_to_txt(input_file_location, output_file_location):\n",
    "  data = load_input_file(input_file_location)\n",
    "  # Write content to the file\n",
    "  with open(output_file_location, 'w') as file:\n",
    "    for i, item in enumerate(data):\n",
    "      item_type = item['type']\n",
    "      if item_type == \"Title\" or item_type == \"NarrativeText\":\n",
    "        file.write('\\n' + item['text'] + '\\n')\n",
    "      elif item_type == \"Table\":\n",
    "        table_content = item['metadata']['text_as_html']\n",
    "        table_context = extract_related_table_context(i, data)\n",
    "        description = get_table_description(table_content, table_context)\n",
    "        enhanced_table = description + '\\n' + table_content\n",
    "        # print(\"--------------------\\n\" + enhanced_table + \"\\n-----------------\")\n",
    "        file.write(enhanced_table)\n",
    "      # elif item_type == \"Footer\" or item_type == \"ListItem\":\n",
    "      #   #discard\n",
    "      #   print()\n",
    "      # else:\n",
    "      #   print(item['text'])\n",
    "      #   raise Exception('Type not accounted for ' + item_type) "
   ]
  },
  {
   "cell_type": "code",
   "execution_count": 57,
   "id": "c5713bb4-7a9e-425c-9759-8a6e964e6f01",
   "metadata": {
    "tags": []
   },
   "outputs": [],
   "source": [
    "# table_content = '<table><thead><tr><th></th><th colspan=\"2\">Three Months Ended</th><th colspan=\"2\">Six Months Ended</th></tr><tr><th></th><th>March 30, 2024</th><th>April 1, 2023</th><th>March 30, 2024</th><th>April 1, 2023</th></tr></thead><tbody><tr><td>Net income</td><td>23,636 $</td><td>$ 24,160</td><td>$ 57,552</td><td>$ 54,158</td></tr><tr><td colspan=\"5\">Other comprehensive income/(loss):</td></tr><tr><td>Change in foreign currency translation, net of tax</td><td>(322)</td><td>(95)</td><td>(14)</td><td>(109)</td></tr><tr><td colspan=\"5\">Change in unrealized gains/losses on derivative instruments, net of tax:</td></tr><tr><td>Change in fair value of derivative instruments</td><td>456</td><td>(13)</td><td>(75)</td><td>(1,001)</td></tr><tr><td>Adjustment for net (gains)/losses realized and included in net income</td><td>232</td><td>(191)</td><td>(591)</td><td>(1,957)</td></tr><tr><td>Total change in unrealized gains/losses on derivative instruments</td><td>688</td><td>(204)</td><td>(666)</td><td>(2,958)</td></tr><tr><td colspan=\"5\">Change in unrealized gains/losses on marketable debt securities, net of tax:</td></tr><tr><td>Change in fair value of marketable debt securities</td><td>@)</td><td>1,403</td><td>3,038</td><td>2,303</td></tr><tr><td>Adjustment for net (gains)/losses realized and included in net income</td><td>59</td><td>62</td><td>134</td><td>127</td></tr><tr><td>Total change in unrealized gains/losses on marketable debt securities</td><td>52</td><td>1,465</td><td>3,172</td><td>2,430</td></tr><tr><td>Total other comprehensive income/(loss)</td><td>418</td><td>1,166</td><td>2,492</td><td>(637)</td></tr><tr><td>Total comprehensive income</td><td>24,054 $</td><td>$ 25,326</td><td>$ 60,044</td><td>$ 53,521</td></tr></tbody></table>'\n",
    "# title = 'CONDENSED CONSOLIDATED STATEMENTS OF COMPREHENSIVE INCOME (Unaudited)'\n",
    "# table_context = 'Title: ' + title + 'from the company Apple'\n",
    "# table_description = get_table_description(table_content, table_context)"
   ]
  },
  {
   "cell_type": "code",
   "execution_count": null,
   "id": "9296dae3-9f7c-46ff-a388-b1387771115b",
   "metadata": {
    "tags": []
   },
   "outputs": [],
   "source": [
    "advanced_convert_10Q_to_txt('./data/preprocessed_pdf_data/apple_10-Q-Q2-2024-As-Filed-Copy1.pdf.json', './data/final_v2_data/apple_10-Q-Q2-2024-As-Filed-Copy1.pdf.json.txt')"
   ]
  },
  {
   "cell_type": "code",
   "execution_count": null,
   "id": "6e0a594a-10dd-4bb0-8f20-55744dfaaa02",
   "metadata": {
    "tags": []
   },
   "outputs": [],
   "source": [
    "advanced_convert_10Q_to_txt('./data/preprocessed_pdf_data/apple_10-Q-Q3-2024-As-Filed-Copy1.pdf.json', './data/final_v2_data/apple_10-Q-Q3-2024-As-Filed-Copy1.pdf.json.txt')"
   ]
  },
  {
   "cell_type": "code",
   "execution_count": 64,
   "id": "82f299e8-e4dd-423a-a25d-f2e11b6bcc0d",
   "metadata": {},
   "outputs": [],
   "source": [
    "def convert_news_to_txt(input_file_location, output_file_location):\n",
    "  data = load_input_file(input_file_location) \n",
    "  with open(output_file_location, 'w') as file:\n",
    "    for item in data:\n",
    "      if item['title'] != '[Removed]':\n",
    "        file.write('\\n' + item['title'] + '\\n' + item['description'] + '\\n')"
   ]
  },
  {
   "cell_type": "code",
   "execution_count": 38,
   "id": "6fa75cd8-3852-4d63-a3ca-8ae81210c6f7",
   "metadata": {
    "tags": []
   },
   "outputs": [],
   "source": [
    "convert_news_to_txt('./data/_raw_data/apple-recent-news.json', './data/final_data/apple-recent-news.json.txt')"
   ]
  }
 ],
 "metadata": {
  "kernelspec": {
   "display_name": "affine-project-kernel",
   "language": "python",
   "name": "affine-project-kernel"
  },
  "language_info": {
   "codemirror_mode": {
    "name": "ipython",
    "version": 3
   },
   "file_extension": ".py",
   "mimetype": "text/x-python",
   "name": "python",
   "nbconvert_exporter": "python",
   "pygments_lexer": "ipython3",
   "version": "3.12.6"
  }
 },
 "nbformat": 4,
 "nbformat_minor": 5
}
